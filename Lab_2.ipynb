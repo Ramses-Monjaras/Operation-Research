{
  "nbformat": 4,
  "nbformat_minor": 0,
  "metadata": {
    "colab": {
      "provenance": []
    },
    "kernelspec": {
      "name": "python3",
      "display_name": "Python 3"
    },
    "language_info": {
      "name": "python"
    }
  },
  "cells": [
    {
      "cell_type": "markdown",
      "source": [
        "#Factorials"
      ],
      "metadata": {
        "id": "XirgTMlWi-EO"
      }
    },
    {
      "cell_type": "code",
      "source": [
        "def trailing_zeros(n):\n",
        "    count = 0\n",
        "    i = 5\n",
        "    while n / i >= 1:\n",
        "        count += n / i\n",
        "        i *= 5\n",
        "    return count\n",
        "\n",
        "num_zeros = trailing_zeros(1000)\n",
        "print(f\"The number of trailing zeros in 1000! is: {num_zeros}\")"
      ],
      "metadata": {
        "colab": {
          "base_uri": "https://localhost:8080/"
        },
        "id": "V6YoCKS4h3TJ",
        "outputId": "3417905a-1825-461e-837e-eb894892a09e"
      },
      "execution_count": 9,
      "outputs": [
        {
          "output_type": "stream",
          "name": "stdout",
          "text": [
            "The number of trailing zeros in 1000! is: 249.6\n"
          ]
        }
      ]
    },
    {
      "cell_type": "markdown",
      "source": [
        "#Big Numbers"
      ],
      "metadata": {
        "id": "G-MftXUqjJ2p"
      }
    },
    {
      "cell_type": "code",
      "source": [
        "number = 100**13 - 26\n",
        "number_str = str(number)\n",
        "digit_sum = sum(int(digit) for digit in number_str)\n",
        "print(f\"The sum of the digits of {number} is: {digit_sum}\")"
      ],
      "metadata": {
        "colab": {
          "base_uri": "https://localhost:8080/"
        },
        "id": "l1dqbjAVli6L",
        "outputId": "5ae6d962-3b82-4ae7-9b3b-cdc49fec4b88"
      },
      "execution_count": null,
      "outputs": [
        {
          "output_type": "stream",
          "name": "stdout",
          "text": [
            "The sum of the digits of 99999999999999999999999974 is: 227\n"
          ]
        }
      ]
    },
    {
      "cell_type": "markdown",
      "source": [
        "#Handshakes"
      ],
      "metadata": {
        "id": "AKg4YzhwndS8"
      }
    },
    {
      "cell_type": "code",
      "source": [
        "\n",
        "inter_team = 11 * 11\n",
        "intra_team_winning = (11 * 10) / 2\n",
        "total = inter_team + intra_team_winning\n",
        "print(total)"
      ],
      "metadata": {
        "colab": {
          "base_uri": "https://localhost:8080/"
        },
        "id": "L3enaubYncJa",
        "outputId": "2ecaecf7-6010-4183-b0c9-d1554dadc463"
      },
      "execution_count": 7,
      "outputs": [
        {
          "output_type": "stream",
          "name": "stdout",
          "text": [
            "176.0\n"
          ]
        }
      ]
    },
    {
      "cell_type": "markdown",
      "source": [
        "#Harder Handshakes"
      ],
      "metadata": {
        "id": "CUewlFetnjZe"
      }
    },
    {
      "cell_type": "code",
      "source": [
        "total_possible_handshakes = 8\n",
        "number_of_couples = 5\n",
        "handshake_counts = list(range(total_possible_handshakes + 1))\n",
        "\n",
        "mr_smith_handshakes = total_possible_handshakes / 2\n",
        "\n",
        "print(f\"Mr. Smith shook hands {mr_smith_handshakes} times.\")"
      ],
      "metadata": {
        "colab": {
          "base_uri": "https://localhost:8080/"
        },
        "id": "-nAKx_o-l61W",
        "outputId": "29ea63d1-84e6-4c40-bb94-92c115c7524d"
      },
      "execution_count": 6,
      "outputs": [
        {
          "output_type": "stream",
          "name": "stdout",
          "text": [
            "Mr. Smith shook hands 4.0 times.\n"
          ]
        }
      ]
    }
  ]
}