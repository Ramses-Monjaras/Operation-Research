{
  "nbformat": 4,
  "nbformat_minor": 0,
  "metadata": {
    "colab": {
      "provenance": []
    },
    "kernelspec": {
      "name": "python3",
      "display_name": "Python 3"
    },
    "language_info": {
      "name": "python"
    }
  },
  "cells": [
    {
      "cell_type": "markdown",
      "source": [
        "#Taxes"
      ],
      "metadata": {
        "id": "awbuUVmuMcP2"
      }
    },
    {
      "cell_type": "code",
      "source": [
        "def calculate_tax(income):\n",
        "\n",
        "    tax_brackets = [\n",
        "        (0, 11000, 0.10),\n",
        "        (11001, 44725, 0.12),\n",
        "        (44726, 95375, 0.22),\n",
        "        (95376, 182100, 0.24),\n",
        "        (182101, 231250, 0.32),\n",
        "        (231251, 578125, 0.35),\n",
        "        (578126, float('inf'), 0.37),\n",
        "    ]\n",
        "\n",
        "    total_tax = 0\n",
        "    taxed_up_to = 0\n",
        "\n",
        "    for lower_bound, upper_bound, rate in tax_brackets:\n",
        "        if income <= taxed_up_to:\n",
        "            break\n",
        "\n",
        "        taxable_in_this_bracket = min(income, upper_bound if upper_bound != float('inf') else income) - max(lower_bound -1, taxed_up_to)\n",
        "        taxable_in_this_bracket = max(0, taxable_in_this_bracket)\n",
        "\n",
        "        if taxable_in_this_bracket > 0:\n",
        "            total_tax += taxable_in_this_bracket * rate\n",
        "            taxed_up_to = min(income, upper_bound if upper_bound != float('inf') else income)\n",
        "\n",
        "\n",
        "    return total_tax\n",
        "\n",
        "income1 = 9000\n",
        "tax1 = calculate_tax(income1)\n",
        "print(f\"Tax on ${income1}: ${tax1:.2f}\")\n",
        "\n",
        "income2 = 95375\n",
        "tax2 = calculate_tax(income2)\n",
        "print(f\"Tax on ${income2}: ${tax2:.2f}\")\n",
        "\n",
        "income3 = 578126\n",
        "tax3 = calculate_tax(income3)\n",
        "print(f\"Tax on ${income3}: ${tax3:.2f}\")\n",
        "\n",
        "income4 = 100000\n",
        "tax4 = calculate_tax(income4)\n",
        "print(f\"Tax on ${income4}: ${tax4:.2f}\")\n",
        "\n",
        "income5 = 25000\n",
        "tax5 = calculate_tax(income5)\n",
        "print(f\"Tax on ${income5}: ${tax5:.2f}\")"
      ],
      "metadata": {
        "colab": {
          "base_uri": "https://localhost:8080/"
        },
        "id": "7TbfQwlfMlzl",
        "outputId": "65e9446d-7ce7-4908-d172-a600fe2a0e2e"
      },
      "execution_count": 2,
      "outputs": [
        {
          "output_type": "stream",
          "name": "stdout",
          "text": [
            "Tax on $9000: $900.00\n",
            "Tax on $95375: $16290.00\n",
            "Tax on $578126: $174238.62\n",
            "Tax on $100000: $17400.00\n",
            "Tax on $25000: $2780.00\n"
          ]
        }
      ]
    },
    {
      "cell_type": "markdown",
      "source": [
        "#Lists"
      ],
      "metadata": {
        "id": "4HDg9xGgqpX2"
      }
    },
    {
      "cell_type": "code",
      "execution_count": null,
      "metadata": {
        "id": "MslTBUkFuIbg"
      },
      "outputs": [],
      "source": [
        "h = [1, 0.1, 0.001, 0.002, 0.0001, 0.0000000001]"
      ]
    },
    {
      "cell_type": "code",
      "source": [
        "import math\n",
        "\n",
        "def derivative_ln_at_1(h_values):\n",
        "  results = {}\n",
        "  for h in h_values:\n",
        "\n",
        "    approx_derivative = (math.log(1 + h) - math.log(1)) / h\n",
        "    results[h] = approx_derivative\n",
        "  return results\n",
        "\n",
        "approx_derivatives = derivative_ln_at_1(h)\n",
        "for h_val, derivative in approx_derivatives.items():\n",
        "  print(f\"For h = {h_val}, approximate derivative = {derivative}\")"
      ],
      "metadata": {
        "colab": {
          "base_uri": "https://localhost:8080/"
        },
        "id": "b8IDLZvKu_ke",
        "outputId": "191603e8-cdfd-49ba-9c9f-31f83db980ec"
      },
      "execution_count": null,
      "outputs": [
        {
          "output_type": "stream",
          "name": "stdout",
          "text": [
            "For h = 1, approximate derivative = 0.6931471805599453\n",
            "For h = 0.1, approximate derivative = 0.9531017980432493\n",
            "For h = 0.001, approximate derivative = 0.9995003330834232\n",
            "For h = 0.002, approximate derivative = 0.9990013313365289\n",
            "For h = 0.0001, approximate derivative = 0.9999500033329731\n",
            "For h = 1e-10, approximate derivative = 1.000000082690371\n"
          ]
        }
      ]
    },
    {
      "cell_type": "markdown",
      "source": [
        "#Truth of Summation"
      ],
      "metadata": {
        "id": "qB8O6oSQqy7p"
      }
    },
    {
      "cell_type": "code",
      "source": [
        "def verify_sum_of_cubes_formula(max_n=1000):\n",
        "\n",
        "    print(f\"Verifying sum of cubes formula for n = 1 to {max_n}...\")\n",
        "    print(\"=\" * 60)\n",
        "\n",
        "    all_correct = True\n",
        "\n",
        "    for n in range(1, max_n + 1):\n",
        "        sum_cubes = 0\n",
        "        for i in range(1, n + 1):\n",
        "            sum_cubes += i ** 3\n",
        "\n",
        "\n",
        "        formula_result = (n * (n + 1) // 2) ** 2\n",
        "\n",
        "\n",
        "        if sum_cubes != formula_result:\n",
        "            print(f\"ERROR: For n = {n}\")\n",
        "            print(f\"  Direct sum: {sum_cubes}\")\n",
        "            print(f\"  Formula:    {formula_result}\")\n",
        "            all_correct = False\n",
        "            break\n",
        "\n",
        "    if all_correct:\n",
        "        print(f\"✓ Formula verified for all n = 1 to {max_n}!\")\n",
        "        print(f\"  Sum of first n cubes = (n(n+1)/2)^2 = {formula_result:,}\")\n",
        "    else:\n",
        "        print(\"✗ Formula verification failed!\")\n",
        "\n",
        "    return all_correct\n",
        "\n",
        "def demonstrate_formula_with_examples():\n",
        "    \"\"\"Show examples of the formula for specific values of n\"\"\"\n",
        "\n",
        "    examples = [1, 2, 3, 5, 10, 50, 100]\n",
        "\n",
        "    print(\"\\nExamples of the sum of cubes formula:\")\n",
        "    print(\"=\" * 50)\n",
        "    print(f\"{'n':<4} {'Direct Sum':<15} {'Formula':<15} {'Match':<6}\")\n",
        "    print(\"-\" * 50)\n",
        "\n",
        "    for n in examples:\n",
        "\n",
        "        direct_sum = sum(i**3 for i in range(1, n + 1))\n",
        "\n",
        "\n",
        "        formula_sum = (n * (n + 1) // 2) ** 2\n",
        "\n",
        "        match = \"✓\" if direct_sum == formula_sum else \"✗\"\n",
        "        print(f\"{n:<4} {direct_sum:<15,} {formula_sum:<15,} {match:<6}\")\n",
        "\n",
        "def verify_large_numbers():\n",
        "    \"\"\"Test the formula with very large n values\"\"\"\n",
        "\n",
        "    large_n_values = [1000, 5000, 10000]\n",
        "\n",
        "    print(\"\\nTesting with large n values:\")\n",
        "    print(\"=\" * 50)\n",
        "\n",
        "    for n in large_n_values:\n",
        "\n",
        "        formula_result = (n * (n + 1) // 2) ** 2\n",
        "\n",
        "        closed_form = (n ** 2 * (n + 1) ** 2) // 4\n",
        "\n",
        "        match = \"✓\" if formula_result == closed_form else \"✗\"\n",
        "        print(f\"n = {n:,}: Formula result = {formula_result:,} {match}\")\n",
        "\n",
        "if __name__ == \"__main__\":\n",
        "    verification_result = verify_sum_of_cubes_formula(1000)\n",
        "\n",
        "    demonstrate_formula_with_examples()\n",
        "\n",
        "    verify_large_numbers()\n",
        "\n",
        "    print(\"\\n\" + \"=\" * 60)\n",
        "    print(\"MATHEMATICAL PROOF SUMMARY:\")\n",
        "    print(\"=\" * 60)\n",
        "    print(\"The formula can be proven using mathematical induction:\")\n",
        "    print(\"1. Base case (n=1): 1³ = 1 and (1×2/2)² = 1 ✓\")\n",
        "    print(\"2. Inductive step: Assume true for n=k, prove for n=k+1\")\n",
        "    print(\"3. Sum for n=k+1 = k²(k+1)²/4 + (k+1)³\")\n",
        "    print(\"4. = (k+1)²[k²/4 + (k+1)]\")\n",
        "    print(\"5. = (k+1)²(k² + 4k + 4)/4\")\n",
        "    print(\"6. = (k+1)²(k+2)²/4 = [(k+1)(k+2)/2]² ✓\")"
      ],
      "metadata": {
        "colab": {
          "base_uri": "https://localhost:8080/"
        },
        "id": "0BJ-9HA-q5F7",
        "outputId": "4c152016-f912-40ed-d172-97594c8d55a2"
      },
      "execution_count": null,
      "outputs": [
        {
          "output_type": "stream",
          "name": "stdout",
          "text": [
            "Verifying sum of cubes formula for n = 1 to 1000...\n",
            "============================================================\n",
            "✓ Formula verified for all n = 1 to 1000!\n",
            "  Sum of first n cubes = (n(n+1)/2)^2 = 250,500,250,000\n",
            "\n",
            "Examples of the sum of cubes formula:\n",
            "==================================================\n",
            "n    Direct Sum      Formula         Match \n",
            "--------------------------------------------------\n",
            "1    1               1               ✓     \n",
            "2    9               9               ✓     \n",
            "3    36              36              ✓     \n",
            "5    225             225             ✓     \n",
            "10   3,025           3,025           ✓     \n",
            "50   1,625,625       1,625,625       ✓     \n",
            "100  25,502,500      25,502,500      ✓     \n",
            "\n",
            "Testing with large n values:\n",
            "==================================================\n",
            "n = 1,000: Formula result = 250,500,250,000 ✓\n",
            "n = 5,000: Formula result = 156,312,506,250,000 ✓\n",
            "n = 10,000: Formula result = 2,500,500,025,000,000 ✓\n",
            "\n",
            "============================================================\n",
            "MATHEMATICAL PROOF SUMMARY:\n",
            "============================================================\n",
            "The formula can be proven using mathematical induction:\n",
            "1. Base case (n=1): 1³ = 1 and (1×2/2)² = 1 ✓\n",
            "2. Inductive step: Assume true for n=k, prove for n=k+1\n",
            "3. Sum for n=k+1 = k²(k+1)²/4 + (k+1)³\n",
            "4. = (k+1)²[k²/4 + (k+1)]\n",
            "5. = (k+1)²(k² + 4k + 4)/4\n",
            "6. = (k+1)²(k+2)²/4 = [(k+1)(k+2)/2]² ✓\n"
          ]
        }
      ]
    }
  ]
}