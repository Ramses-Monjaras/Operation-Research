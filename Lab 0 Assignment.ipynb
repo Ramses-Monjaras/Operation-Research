{
  "metadata": {
    "kernelspec": {
      "name": "python",
      "display_name": "Python (Pyodide)",
      "language": "python"
    },
    "language_info": {
      "codemirror_mode": {
        "name": "python",
        "version": 3
      },
      "file_extension": ".py",
      "mimetype": "text/x-python",
      "name": "python",
      "nbconvert_exporter": "python",
      "pygments_lexer": "ipython3",
      "version": "3.8"
    }
  },
  "nbformat_minor": 5,
  "nbformat": 4,
  "cells": [
    {
      "id": "aa96900e-e165-44ce-af22-af4884f09d78",
      "cell_type": "markdown",
      "source": "# Lab 0\n## Operation Research\n### Ramses Monjaras",
      "metadata": {}
    },
    {
      "id": "2b16c80d-933d-4307-aa95-55de4287b46c",
      "cell_type": "code",
      "source": "\n## My favorite function\n### my favoite function is max() because it is useful for listing the largest number amoung a set of numbers, on top of that it is a built in function in Python.\n",
      "metadata": {
        "trusted": true
      },
      "outputs": [],
      "execution_count": 11
    },
    {
      "id": "a2b29974-f51b-48cb-ba8f-83e0a936b1db",
      "cell_type": "code",
      "source": "numbers = [14, 3, 10, 7, 2, 17, 8,]\nmax_value = max(numbers)\nprint(max_value)",
      "metadata": {
        "trusted": true
      },
      "outputs": [
        {
          "name": "stdout",
          "output_type": "stream",
          "text": "17\n"
        }
      ],
      "execution_count": 12
    },
    {
      "id": "2a90a5b4-4a83-4fbd-936a-b9d0a99d0f0d",
      "cell_type": "code",
      "source": "import random\n\nrandom_numbers = [random.randint(1, 100) for _ in range(10)]\n\ntotal = sum(random_numbers)\nminimum = min(random_numbers)\nmaximum = max(random_numbers)\naverage = total / len(random_numbers)\n\nprint(\"Random values:\", random_numbers)\nprint(f\"Sum: {total}\")\nprint(f\"Minimum: {minimum}\")\nprint(f\"Maximum: {maximum}\")\nprint(f\"Average: {average:.2f}\")",
      "metadata": {
        "trusted": true
      },
      "outputs": [
        {
          "name": "stdout",
          "output_type": "stream",
          "text": "Random values: [68, 13, 17, 56, 45, 73, 92, 44, 62, 3]\nSum: 473\nMinimum: 3\nMaximum: 92\nAverage: 47.30\n"
        }
      ],
      "execution_count": 2
    },
    {
      "id": "84826c12-635d-45ff-a40d-2e22884f5bed",
      "cell_type": "raw",
      "source": "I got the 10 random numbers by importing random and by using random.randint(). random.randint() generates a random number within a specific range and for _ in range(10) is the amount of numbers printed.",
      "metadata": {}
    }
  ]
}